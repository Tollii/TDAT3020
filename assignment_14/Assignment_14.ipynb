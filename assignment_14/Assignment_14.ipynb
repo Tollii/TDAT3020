{
 "cells": [
  {
   "cell_type": "markdown",
   "metadata": {},
   "source": [
    "# Kryptografi 1"
   ]
  },
  {
   "cell_type": "code",
   "execution_count": 1,
   "metadata": {},
   "outputs": [],
   "source": [
    "import numpy as np"
   ]
  },
  {
   "cell_type": "markdown",
   "metadata": {},
   "source": [
    "## Oppgave 1\n",
    "\n",
    "232 + 32 * 77 - 18^2 mod 8"
   ]
  },
  {
   "cell_type": "code",
   "execution_count": 2,
   "metadata": {},
   "outputs": [
    {
     "data": {
      "text/plain": [
       "4"
      ]
     },
     "execution_count": 2,
     "metadata": {},
     "output_type": "execute_result"
    }
   ],
   "source": [
    "(232 + 32 * 77 - 18**2) % 8"
   ]
  },
  {
   "cell_type": "markdown",
   "metadata": {},
   "source": [
    "## Oppgave 2\n",
    "\n",
    "### a.\n",
    "Skriv ut multiplikasjonstabellen i Z12 uten å ha med 0 mod 12\n"
   ]
  },
  {
   "cell_type": "code",
   "execution_count": 3,
   "metadata": {},
   "outputs": [
    {
     "data": {
      "text/plain": [
       "array([[ 1,  2,  3,  4,  5,  6,  7,  8,  9, 10, 11,  0],\n",
       "       [ 2,  4,  6,  8, 10,  0,  2,  4,  6,  8, 10,  0],\n",
       "       [ 3,  6,  9,  0,  3,  6,  9,  0,  3,  6,  9,  0],\n",
       "       [ 4,  8,  0,  4,  8,  0,  4,  8,  0,  4,  8,  0],\n",
       "       [ 5, 10,  3,  8,  1,  6, 11,  4,  9,  2,  7,  0],\n",
       "       [ 6,  0,  6,  0,  6,  0,  6,  0,  6,  0,  6,  0],\n",
       "       [ 7,  2,  9,  4, 11,  6,  1,  8,  3, 10,  5,  0],\n",
       "       [ 8,  4,  0,  8,  4,  0,  8,  4,  0,  8,  4,  0],\n",
       "       [ 9,  6,  3,  0,  9,  6,  3,  0,  9,  6,  3,  0],\n",
       "       [10,  8,  6,  4,  2,  0, 10,  8,  6,  4,  2,  0],\n",
       "       [11, 10,  9,  8,  7,  6,  5,  4,  3,  2,  1,  0],\n",
       "       [ 0,  0,  0,  0,  0,  0,  0,  0,  0,  0,  0,  0]])"
      ]
     },
     "execution_count": 3,
     "metadata": {},
     "output_type": "execute_result"
    }
   ],
   "source": [
    "table_size = 12\n",
    "table = np.zeros((table_size, table_size), dtype=int)\n",
    "\n",
    "# Fill tables with values\n",
    "for x in range(table_size):\n",
    "    for y in range(table_size):\n",
    "        table[x][y] = ((x + 1) * (y + 1))\n",
    "\n",
    "mod_table = np.mod(table, 12)\n",
    "mod_table"
   ]
  },
  {
   "cell_type": "markdown",
   "metadata": {},
   "source": [
    "### b.\n",
    "\n",
    "Hvilket tall har multiplikativ invers mod 12?"
   ]
  },
  {
   "cell_type": "code",
   "execution_count": 4,
   "metadata": {},
   "outputs": [
    {
     "name": "stdout",
     "output_type": "stream",
     "text": [
      "1\n",
      "5\n",
      "7\n",
      "11\n"
     ]
    }
   ],
   "source": [
    "for x in range(table_size):\n",
    "    for y in range(table_size):\n",
    "        if mod_table[x][y] == 1:\n",
    "            print(x + 1)"
   ]
  },
  {
   "cell_type": "markdown",
   "metadata": {},
   "source": [
    "### c.\n",
    "\n",
    "Forklar hvorfor en ikke kan ha 0 og 1 i samme rad eller kolonne i tabellen?\n",
    "\n",
    "#### Svar:\n",
    "0 og 1 kan ikke forekomme i samme rad eller kolonne fordi 0 og 1 er ekslusive mot hverandre  \n",
    "For å få 0, kan ikke tallet være relativt primisk med N  \n",
    "For å få 1, må tallet være relativt primisk med N  "
   ]
  },
  {
   "cell_type": "markdown",
   "metadata": {},
   "source": [
    "## Oppgave 3\n",
    "\n",
    "Finn den inverse matrisen til a = [ [2, 5], [-1, 8] ] over...\n",
    "\n",
    "### a\n",
    "Z10\n",
    "\n",
    "### b\n",
    "Z9"
   ]
  },
  {
   "cell_type": "code",
   "execution_count": 5,
   "metadata": {},
   "outputs": [
    {
     "name": "stdout",
     "output_type": "stream",
     "text": [
      "Mod 10\n",
      "[[ 0.38095238 -0.23809524]\n",
      " [ 0.04761905  0.0952381 ]]\n"
     ]
    }
   ],
   "source": [
    "matrix = np.matrix([[2, 5], [-1, 8]], dtype=int)\n",
    "\n",
    "if np.around(np.linalg.det(matrix)) % 9 == 1:\n",
    "    print(\"Mod 9\")\n",
    "    print(np.linalg.inv(matrix))\n",
    "\n",
    "if np.around(np.linalg.det(matrix)) % 10 == 1:\n",
    "    print(\"Mod 10\")\n",
    "    print(np.linalg.inv(matrix))"
   ]
  },
  {
   "cell_type": "markdown",
   "metadata": {},
   "source": [
    "## Oppgave 4\n",
    "\n",
    "### a\n",
    "Hvor mange forskjellige nøkler kan et (enkelt) substitusjonschiffer ha når vi opererer med et alfabet med 29 tegn?"
   ]
  },
  {
   "cell_type": "code",
   "execution_count": 6,
   "metadata": {},
   "outputs": [
    {
     "data": {
      "text/plain": [
       "8841761993739701954543616000000"
      ]
     },
     "execution_count": 6,
     "metadata": {},
     "output_type": "execute_result"
    }
   ],
   "source": [
    "# 29!\n",
    "np.math.factorial(29)"
   ]
  },
  {
   "cell_type": "markdown",
   "metadata": {},
   "source": [
    "### b\n",
    "Et slikt substitusjonschiffer er ikke særlig trygt. Hvilke enkel grep kan Alice og Bob bruke for å gjøre det vanskeligere for Eva å dekode meldingene?\n",
    "\n",
    "#### Svar:\n",
    "   * Kan la være å bruke gjentakene språk, som hilsner og samme struktur på meldinger\n",
    "   * Bruke forskjellige nøkler, slik at hvis en nøkkel blir funnet, kan bare deler av samtalen bli lest\n",
    "   * Fjerne symboler som bryter opp teksten, som mellomrom, punktum, komma, osv...\n",
    "   \n",
    "\n",
    "### c\n",
    "Hvis vi lager en substitusjonschiffer for blokker med n tegn, hvor mange nøkler finnes da?\n",
    "\n",
    "#### Svar:\n",
    "(29^n)!"
   ]
  },
  {
   "cell_type": "markdown",
   "metadata": {},
   "source": [
    "## Oppgave 5\n",
    "\n",
    "Du har snappet om følgene  melding:\n",
    "#### YÆVFB VBVFR ÅVBV\n",
    "Du vet Alice og Bob bruker et k-skift-chiffer. Finn krypteringsnøkkelen og klarteksten!"
   ]
  },
  {
   "cell_type": "code",
   "execution_count": 48,
   "metadata": {},
   "outputs": [
    {
     "name": "stdout",
     "output_type": "stream",
     "text": [
      "0:\n",
      "yævfbvbvfråvbv\n",
      "1:\n",
      "xzueauaueqøuau\n",
      "2:\n",
      "wytdåtåtdpætåt\n",
      "3:\n",
      "vxscøsøscozsøs\n",
      "4:\n",
      "uwrbærærbnyrær\n",
      "5:\n",
      "tvqazqzqamxqzq\n",
      "6:\n",
      "supåypypålwpyp\n",
      "7:\n",
      "rtoøxoxoøkvoxo\n",
      "8:\n",
      "qsnæwnwnæjunwn\n",
      "9:\n",
      "prmzvmvmzitmvm\n",
      "10:\n",
      "oqlyululyhslul\n",
      "11:\n",
      "npkxtktkxgrktk\n",
      "12:\n",
      "mojwsjsjwfqjsj\n",
      "13:\n",
      "lnivririvepiri\n",
      "14:\n",
      "kmhuqhqhudohqh\n",
      "15:\n",
      "jlgtpgpgtcngpg\n",
      "16:\n",
      "ikfsofofsbmfof\n",
      "17:\n",
      "hjerneneralene\n",
      "18:\n",
      "gidqmdmdqåkdmd\n",
      "19:\n",
      "fhcplclcpøjclc\n",
      "20:\n",
      "egbokbkboæibkb\n",
      "21:\n",
      "dfanjajanzhaja\n",
      "22:\n",
      "ceåmiåiåmygåiå\n",
      "23:\n",
      "bdølhøhølxføhø\n",
      "24:\n",
      "acækgægækweægæ\n",
      "25:\n",
      "åbzjfzfzjvdzfz\n",
      "26:\n",
      "øayieyeyiucyey\n",
      "27:\n",
      "æåxhdxdxhtbxdx\n",
      "28:\n",
      "zøwgcwcwgsawcw\n"
     ]
    }
   ],
   "source": [
    "alphabet_number = {\n",
    "    'a' : 0,\n",
    "    'b' : 1,\n",
    "    'c' : 2,\n",
    "    'd' : 3,\n",
    "    'e' : 4,\n",
    "    'f' : 5,\n",
    "    'g' : 6,\n",
    "    'h' : 7,\n",
    "    'i' : 8,\n",
    "    'j' : 9,\n",
    "    'k' : 10,\n",
    "    'l' : 11,\n",
    "    'm' : 12,\n",
    "    'n' : 13,\n",
    "    'o' : 14,\n",
    "    'p' : 15,\n",
    "    'q' : 16,\n",
    "    'r' : 17,\n",
    "    's' : 18,\n",
    "    't' : 19,\n",
    "    'u' : 20,\n",
    "    'v' : 21,\n",
    "    'w' : 22,\n",
    "    'x' : 23,\n",
    "    'y' : 24,\n",
    "    'z' : 25,\n",
    "    'æ' : 26,\n",
    "    'ø' : 27,\n",
    "    'å' : 28\n",
    "}\n",
    "\n",
    "alphabet = [\n",
    "    'a',\n",
    "    'b',\n",
    "    'c',\n",
    "    'd',\n",
    "    'e',\n",
    "    'f',\n",
    "    'g',\n",
    "    'h',\n",
    "    'i',\n",
    "    'j',\n",
    "    'k',\n",
    "    'l',\n",
    "    'm',\n",
    "    'n',\n",
    "    'o',\n",
    "    'p',\n",
    "    'q',\n",
    "    'r',\n",
    "    's',\n",
    "    't',\n",
    "    'u',\n",
    "    'v',\n",
    "    'w',\n",
    "    'x',\n",
    "    'y',\n",
    "    'z',\n",
    "    'æ',\n",
    "    'ø',\n",
    "    'å'\n",
    "]\n",
    "\n",
    "def reformat_index(i):\n",
    "    if i < 0:\n",
    "        return 29 + i\n",
    "    \n",
    "    return i\n",
    "\n",
    "input = \"yævfbvbvfråvbv\"\n",
    "int_list = []\n",
    "\n",
    "for char in input:\n",
    "    int_list.append(alphabet_number[char])\n",
    "    \n",
    "for x in range(29):\n",
    "    print(f'{x}:')\n",
    "    output = \"\"\n",
    "    for i in int_list:\n",
    "        output += alphabet[reformat_index(i-x)]\n",
    "    print(output)"
   ]
  },
  {
   "cell_type": "markdown",
   "metadata": {},
   "source": [
    "K = 17"
   ]
  },
  {
   "cell_type": "markdown",
   "metadata": {},
   "source": [
    "## Oppgave 6\n",
    "\n",
    "Definer et blokk-chiffer med blokklengde b, og et alfabete med N tegn, som bruker samme prinsipp som skift-chifret."
   ]
  },
  {
   "cell_type": "markdown",
   "metadata": {},
   "source": [
    "Svar:\n",
    "Ett blokkchifer er en deterministisk algoritme som jobber på en enkel størrelse med bits. Den krypterte meldingen har da en lengde lik blokklengden og har like mange bits i hver blokk\n",
    "\n",
    "Chifret har (N^b)! nøkler\n"
   ]
  },
  {
   "cell_type": "markdown",
   "metadata": {},
   "source": [
    "## Oppgave 7"
   ]
  },
  {
   "cell_type": "code",
   "execution_count": 60,
   "metadata": {},
   "outputs": [],
   "source": [
    "def create_vigenere_table():\n",
    "    \n",
    "    table = np.zeros((29,29), 'U1')\n",
    "    \n",
    "    letters = alphabet\n",
    "    \n",
    "    for row in range(len(letters)):\n",
    "        for col in range(len(letters)):\n",
    "            charToAdd = (col+row) % len(letters)\n",
    "            table[row][col] = letters[charToAdd]\n",
    "    return (table, letters)\n",
    "\n",
    "def encrypt(clearText, key):\n",
    "    table, letters = create_vigenere_table()\n",
    "    cipher = \"\"\n",
    "    \n",
    "    for i, letter in enumerate(clearText):\n",
    "        indexCol = letters.index(letter)\n",
    "        indexRow = letters.index(key[i % len(key)])\n",
    "        cipher += table[indexRow][indexCol]\n",
    "    return cipher\n",
    "\n",
    "def decrypt(cipher, key):\n",
    "    table, letters = create_vigenere_table()\n",
    "    clearText = \"\"\n",
    "\n",
    "    for i, letter in enumerate(cipher):\n",
    "        indexCol = letters.index(letter)\n",
    "        indexRow = letters.index(key[i % len(key)])\n",
    "        clearText += letters[(indexCol - indexRow) % len(letters)]\n",
    "        \n",
    "    return clearText"
   ]
  },
  {
   "cell_type": "markdown",
   "metadata": {},
   "source": [
    "a) Krypter teksten “Nå er det snart helg” med nøkkelordet “torsk”."
   ]
  },
  {
   "cell_type": "code",
   "execution_count": 59,
   "metadata": {},
   "outputs": [
    {
     "name": "stdout",
     "output_type": "stream",
     "text": [
      "Encrypted cipher:  dnvgnxegckheywvz\n",
      "Decrypted clearText: nåerdetsnarthelg\n"
     ]
    }
   ],
   "source": [
    "clearText = \"Nå er det snart helg\".replace(\" \", \"\").lower()\n",
    "key = \"torsk\".lower()\n",
    "\n",
    "cipher = encrypt(clearText, key)\n",
    "\n",
    "print(\"Encrypted cipher: \", cipher)\n",
    "\n",
    "decrypted = decrypt(cipher, key)\n",
    "print(\"Decrypted clearText:\", decrypted)"
   ]
  },
  {
   "cell_type": "markdown",
   "metadata": {},
   "source": [
    "b) Dekrypter QZQOBVCAFFKSDC med nøkkelordet “brus”."
   ]
  },
  {
   "cell_type": "code",
   "execution_count": 17,
   "metadata": {},
   "outputs": [
    {
     "name": "stdout",
     "output_type": "stream",
     "text": [
      "Decrypted: pizzaellertaco\n"
     ]
    }
   ],
   "source": [
    "cipher = \"qzqobvcaffksdc\"\n",
    "key = \"brus\"\n",
    "\n",
    "decrypted = decrypt(cipher, key)\n",
    "print(\"Decrypted:\", decrypted)"
   ]
  },
  {
   "cell_type": "markdown",
   "metadata": {},
   "source": [
    "c) Hvis m = 5 (se definisjonen), hvor mange nøkler finnes?\n",
    "\n",
    "Svar: Det finnes 29^5 antall nøkler."
   ]
  },
  {
   "cell_type": "markdown",
   "metadata": {},
   "source": [
    "## Oppgave 8\n",
    "\n",
    "a) Finn K^(−1) over Z_29."
   ]
  },
  {
   "cell_type": "code",
   "execution_count": 61,
   "metadata": {},
   "outputs": [],
   "source": [
    "def multiplicative_inverse(matrix):\n",
    "    array = []\n",
    "    for x in range(len(matrix)):\n",
    "        for y in range(len(matrix)):\n",
    "            if(matrix[x][y] == 1):\n",
    "                array.append([x+1, y+1])\n",
    "    return array\n",
    "\n",
    "def inverse_matrix(A):\n",
    "    if np.linalg.det(A) != 0:\n",
    "        return np.linalg.inv(A)*np.linalg.det(A)\n",
    "    else:\n",
    "        return None \n",
    "\n",
    "def inverse_matrix_over_a(a, z):\n",
    "    a_det = int(np.linalg.det(a))\n",
    "    a_det_mod = a_det % len(z)\n",
    "    z_multipl_inverse = multiplicative_inverse(z)\n",
    "    det_in_multipl_inverse = False\n",
    "    \n",
    "    for x in z_multipl_inverse:\n",
    "        if a_det_mod in x:\n",
    "            det_in_multipl_inverse = True\n",
    "    \n",
    "    return inverse_matrix(a) if det_in_multipl_inverse else None"
   ]
  },
  {
   "cell_type": "code",
   "execution_count": 62,
   "metadata": {},
   "outputs": [
    {
     "name": "stdout",
     "output_type": "stream",
     "text": [
      "[[ 7. -8.]\n",
      " [-3. 11.]]\n"
     ]
    }
   ],
   "source": [
    "K = np.array([[11, 8],[3, 7]])\n",
    "\n",
    "Z_29 = np.zeros((28, 28))\n",
    "\n",
    "for x in range(28):\n",
    "    for y in range(28):\n",
    "        Z_29[x][y] = ((x+1) * (y+1))\n",
    "\n",
    "Z_29 = np.mod(Z_29, 29)\n",
    "\n",
    "K_inv = inverse_matrix_over_a(K, Z_29)\n",
    "print(K_inv)"
   ]
  },
  {
   "cell_type": "markdown",
   "metadata": {},
   "source": [
    "b) Krypter teksten “prim” med K som nøkkel i Hill-chifret."
   ]
  },
  {
   "cell_type": "code",
   "execution_count": 70,
   "metadata": {},
   "outputs": [],
   "source": [
    "def vectorize_string(text):\n",
    "    vector = []\n",
    "    for letter in text:\n",
    "        indexLetter = letters.index(letter)\n",
    "        vector.append(indexLetter)\n",
    "    vector = np.array(vector)\n",
    "    return vector\n",
    "\n",
    "def gcdExtended(a, b):  \n",
    "    # Base Case  \n",
    "    if a == 0 :   \n",
    "        return b, 0, 1\n",
    "             \n",
    "    gcd,x1,y1 = gcdExtended(b % a, a)  \n",
    "     \n",
    "    # Update x and y using results of recursive  \n",
    "    # call  \n",
    "    x = y1 - (b // a) * x1  \n",
    "    y = x1  \n",
    "     \n",
    "    return gcd,x,y \n",
    "    \n",
    "def encrypt_hill(cleartext, k_matrix, key_size=2):\n",
    "    if(len(cleartext) % 2 == 0):\n",
    "        cleartext_vector = vectorize_string(cleartext).reshape((-1, key_size))\n",
    "    else:\n",
    "        cleartext_vector = vectorize_28string(cleartext + \"A\").reshape((-1, key_size))\n",
    "    cipher = \"\"\n",
    "    \n",
    "    e_list = []\n",
    "    for vector in cleartext_vector:\n",
    "        encryption = (vector @ k_matrix) % len(letters)\n",
    "        e_list.append(encryption)\n",
    "    \n",
    "    for row in e_list:\n",
    "        for column in row:\n",
    "            cipher += letters[column % len(letters)]\n",
    "            \n",
    "    return cipher\n",
    "\n",
    "def decrypt_hill(cipher, K, key_size=2):\n",
    "    \n",
    "    Z_29 = np.zeros((28, 28))\n",
    "    for x in range(28):\n",
    "        for y in range(28):\n",
    "            Z_29[x][y] = ((x + 1) * (y + 1))\n",
    "\n",
    "    Z_29 = np.mod(Z_29, 29)\n",
    "    \n",
    "    K_inv = inverse_matrix_over_a(K, Z_29)\n",
    "    if(K_inv is not None):\n",
    "        K_det = round(np.linalg.det(K)) % len(letters)\n",
    "        \n",
    "        if(len(cipher) % 2 == 0):\n",
    "            cipher_vector = vectorize_string(cipher).reshape((-1, key_size))\n",
    "        else:\n",
    "            cipher_vector = vectorize_string(cipher+\"a\").reshape((-1, key_size))\n",
    "            \n",
    "        x = gcdExtended(K_det, len(letters))[1]\n",
    "        d_list = []\n",
    "        \n",
    "        for vector in cipher_vector:\n",
    "            decryption = (vector @ (K_inv * x)) % len(letters)\n",
    "            d_list.append(decryption)\n",
    "\n",
    "        cleartext = \"\"\n",
    "        for row in d_list:\n",
    "            for column in row:\n",
    "                cleartext += letters[int(round(column)) % len(letters)]\n",
    "        return cleartext\n",
    "    else:\n",
    "        return \"\""
   ]
  },
  {
   "cell_type": "code",
   "execution_count": 71,
   "metadata": {},
   "outputs": [
    {
     "name": "stdout",
     "output_type": "stream",
     "text": [
      "nhid\n"
     ]
    }
   ],
   "source": [
    "letters = alphabet\n",
    "\n",
    "cleartext_hill= \"prim\"\n",
    "cipher_hill_text = encrypt_hill(cleartext_hill, K)\n",
    "print(cipher_hill_text)\n"
   ]
  },
  {
   "cell_type": "markdown",
   "metadata": {},
   "source": [
    "c) Dekrypter meldingen TOYYSN"
   ]
  },
  {
   "cell_type": "code",
   "execution_count": 72,
   "metadata": {},
   "outputs": [
    {
     "name": "stdout",
     "output_type": "stream",
     "text": [
      "fredag\n"
     ]
    }
   ],
   "source": [
    "cipher = \"toyysn\"\n",
    "decrypted = decrypt_hill(cipher, K)\n",
    "print(decrypted)"
   ]
  },
  {
   "cell_type": "markdown",
   "metadata": {},
   "source": [
    "d) For en annen nøkkel med m = 2, så er meldingen EASY kryptert til IØÅY. Finn nøkkelen ut fra bare kjennskap til denne ene meldingen og\n",
    "dens kryptering."
   ]
  },
  {
   "cell_type": "code",
   "execution_count": 73,
   "metadata": {},
   "outputs": [
    {
     "name": "stdout",
     "output_type": "stream",
     "text": [
      "Brute force result:\n",
      "[[ 2 14]\n",
      " [19  5]]\n"
     ]
    }
   ],
   "source": [
    "clearText_string = \"easy\"\n",
    "encrypted_string = \"iøåy\"\n",
    "\n",
    "# Brute force metode\n",
    "found_key = False\n",
    "brute_key = np.array([])\n",
    "for a in range(21):\n",
    "    if found_key: break\n",
    "    for b in range(21):\n",
    "        if found_key: break\n",
    "        for c in range(21):\n",
    "            if found_key: break\n",
    "            for d in range(21):\n",
    "                testKey = np.array([[a, b], [c, d]])\n",
    "                if(decrypt_hill(encrypted_string, testKey) == clearText_string):\n",
    "                    print(\"Brute force result:\")\n",
    "                    print(testKey)\n",
    "                    found_key = True\n",
    "                    brute_key = testKey\n",
    "                    break"
   ]
  },
  {
   "cell_type": "markdown",
   "metadata": {},
   "source": [
    "Svar:"
   ]
  }
 ],
 "metadata": {
  "kernelspec": {
   "display_name": "Python 3",
   "language": "python",
   "name": "python3"
  },
  "language_info": {
   "codemirror_mode": {
    "name": "ipython",
    "version": 3
   },
   "file_extension": ".py",
   "mimetype": "text/x-python",
   "name": "python",
   "nbconvert_exporter": "python",
   "pygments_lexer": "ipython3",
   "version": "3.8.5"
  }
 },
 "nbformat": 4,
 "nbformat_minor": 4
}
