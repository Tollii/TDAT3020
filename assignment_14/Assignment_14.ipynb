{
 "cells": [
  {
   "cell_type": "markdown",
   "metadata": {},
   "source": [
    "# Kryptografi 1"
   ]
  },
  {
   "cell_type": "code",
   "execution_count": 40,
   "metadata": {},
   "outputs": [],
   "source": [
    "import numpy as np"
   ]
  },
  {
   "cell_type": "markdown",
   "metadata": {},
   "source": [
    "## Oppgave 1\n",
    "\n",
    "232 + 32 * 77 - 18^2 mod 8"
   ]
  },
  {
   "cell_type": "code",
   "execution_count": 18,
   "metadata": {},
   "outputs": [
    {
     "data": {
      "text/plain": [
       "4"
      ]
     },
     "execution_count": 18,
     "metadata": {},
     "output_type": "execute_result"
    }
   ],
   "source": [
    "(232 + 32 * 77 - 18**2) % 8"
   ]
  },
  {
   "cell_type": "markdown",
   "metadata": {},
   "source": [
    "## Oppgave 2\n",
    "\n",
    "### a.\n",
    "Skriv ut multiplikasjonstabellen i Z12 uten å ha med 0 mod 12\n"
   ]
  },
  {
   "cell_type": "code",
   "execution_count": 19,
   "metadata": {},
   "outputs": [
    {
     "data": {
      "text/plain": [
       "array([[ 1,  2,  3,  4,  5,  6,  7,  8,  9, 10, 11,  0],\n",
       "       [ 2,  4,  6,  8, 10,  0,  2,  4,  6,  8, 10,  0],\n",
       "       [ 3,  6,  9,  0,  3,  6,  9,  0,  3,  6,  9,  0],\n",
       "       [ 4,  8,  0,  4,  8,  0,  4,  8,  0,  4,  8,  0],\n",
       "       [ 5, 10,  3,  8,  1,  6, 11,  4,  9,  2,  7,  0],\n",
       "       [ 6,  0,  6,  0,  6,  0,  6,  0,  6,  0,  6,  0],\n",
       "       [ 7,  2,  9,  4, 11,  6,  1,  8,  3, 10,  5,  0],\n",
       "       [ 8,  4,  0,  8,  4,  0,  8,  4,  0,  8,  4,  0],\n",
       "       [ 9,  6,  3,  0,  9,  6,  3,  0,  9,  6,  3,  0],\n",
       "       [10,  8,  6,  4,  2,  0, 10,  8,  6,  4,  2,  0],\n",
       "       [11, 10,  9,  8,  7,  6,  5,  4,  3,  2,  1,  0],\n",
       "       [ 0,  0,  0,  0,  0,  0,  0,  0,  0,  0,  0,  0]])"
      ]
     },
     "execution_count": 19,
     "metadata": {},
     "output_type": "execute_result"
    }
   ],
   "source": [
    "table_size = 12\n",
    "table = np.zeros((table_size, table_size), dtype=int)\n",
    "\n",
    "# Fill tables with values\n",
    "for x in range(table_size):\n",
    "    for y in range(table_size):\n",
    "        table[x][y] = ((x + 1) * (y + 1))\n",
    "\n",
    "mod_table = np.mod(table, 12)\n",
    "mod_table"
   ]
  },
  {
   "cell_type": "markdown",
   "metadata": {},
   "source": [
    "### b.\n",
    "\n",
    "Hvilket tall har multiplikativ invers mod 12?"
   ]
  },
  {
   "cell_type": "code",
   "execution_count": 20,
   "metadata": {},
   "outputs": [
    {
     "name": "stdout",
     "output_type": "stream",
     "text": [
      "1\n",
      "5\n",
      "7\n",
      "11\n"
     ]
    }
   ],
   "source": [
    "for x in range(table_size):\n",
    "    for y in range(table_size):\n",
    "        if mod_table[x][y] == 1:\n",
    "            print(x + 1)"
   ]
  },
  {
   "cell_type": "markdown",
   "metadata": {},
   "source": [
    "### c.\n",
    "\n",
    "Forklar hvorfor en ikke kan ha 0 og 1 i samme rad eller kolonne i tabellen?\n",
    "\n",
    "#### Svar:\n",
    "0 og 1 kan ikke forekomme i samme rad eller kolonne fordi 0 og 1 er ekslusive mot hverandre  \n",
    "For å få 0, kan ikke tallet være relativt primisk med N  \n",
    "For å få 1, må tallet være relativt primisk med N  "
   ]
  },
  {
   "cell_type": "markdown",
   "metadata": {},
   "source": [
    "## Oppgave 3\n",
    "\n",
    "Finn den inverse matrisen til a = [ [2, 5], [-1, 8] ] over...\n",
    "\n",
    "### a\n",
    "Z10\n",
    "\n",
    "### b\n",
    "Z9"
   ]
  },
  {
   "cell_type": "code",
   "execution_count": 21,
   "metadata": {},
   "outputs": [
    {
     "name": "stdout",
     "output_type": "stream",
     "text": [
      "Mod 10\n",
      "[[ 0.38095238 -0.23809524]\n",
      " [ 0.04761905  0.0952381 ]]\n"
     ]
    }
   ],
   "source": [
    "matrix = np.matrix([[2, 5], [-1, 8]], dtype=int)\n",
    "\n",
    "if np.around(np.linalg.det(matrix)) % 9 == 1:\n",
    "    print(\"Mod 9\")\n",
    "    print(np.linalg.inv(matrix))\n",
    "\n",
    "if np.around(np.linalg.det(matrix)) % 10 == 1:\n",
    "    print(\"Mod 10\")\n",
    "    print(np.linalg.inv(matrix))"
   ]
  },
  {
   "cell_type": "markdown",
   "metadata": {},
   "source": [
    "## Oppgave 4\n",
    "\n",
    "### a\n",
    "Hvor mange forskjellige nøkler kan et (enkelt) substitusjonschiffer ha når vi opererer med et alfabet med 29 tegn?"
   ]
  },
  {
   "cell_type": "code",
   "execution_count": 22,
   "metadata": {},
   "outputs": [
    {
     "data": {
      "text/plain": [
       "8841761993739701954543616000000"
      ]
     },
     "execution_count": 22,
     "metadata": {},
     "output_type": "execute_result"
    }
   ],
   "source": [
    "# 29!\n",
    "np.math.factorial(29)"
   ]
  },
  {
   "cell_type": "markdown",
   "metadata": {},
   "source": [
    "### b\n",
    "Et slikt substitusjonschiffer er ikke særlig trygt. Hvilke enkel grep kan Alice og Bob bruke for å gjøre det vanskeligere for Eva å dekode meldingene?\n",
    "\n",
    "#### Svar:\n",
    "   * Kan la være å bruke gjentakene språk, som hilsner og samme struktur på meldinger\n",
    "   * Bruke forskjellige nøkler, slik at hvis en nøkkel blir funnet, kan bare deler av samtalen bli lest\n",
    "   * Fjerne symboler som bryter opp teksten, som mellomrom, punktum, komma, osv...\n",
    "   \n",
    "\n",
    "### c\n",
    "Hvis vi lager en substitusjonschiffer for blokker med n tegn, hvor mange nøkler finnes da?\n",
    "\n",
    "#### Svar:\n",
    "(29^n)!"
   ]
  },
  {
   "cell_type": "markdown",
   "metadata": {},
   "source": [
    "## Oppgave 5\n",
    "\n",
    "Du har snappet om følgene  melding:\n",
    "#### YÆVFB VBVFR ÅVBV\n",
    "Du vet Alice og Bob bruker et k-skift-chiffer. Finn krypteringsnøkkelen og klarteksten!"
   ]
  },
  {
   "cell_type": "code",
   "execution_count": null,
   "metadata": {},
   "outputs": [],
   "source": []
  },
  {
   "cell_type": "code",
   "execution_count": 23,
   "metadata": {},
   "outputs": [
    {
     "name": "stdout",
     "output_type": "stream",
     "text": [
      "0:\n",
      "yævfbvbvfråvbv\n",
      "1:\n",
      "xzueauaueqøuau\n",
      "2:\n",
      "wytdåtåtdpætåt\n",
      "3:\n",
      "vxscøsøscozsøs\n",
      "4:\n",
      "uwrbærærbnyrær\n",
      "5:\n",
      "tvqazqzqamxqzq\n",
      "6:\n",
      "supåypypålwpyp\n",
      "7:\n",
      "rtoøxoxoøkvoxo\n",
      "8:\n",
      "qsnæwnwnæjunwn\n",
      "9:\n",
      "prmzvmvmzitmvm\n",
      "10:\n",
      "oqlyululyhslul\n",
      "11:\n",
      "npkxtktkxgrktk\n",
      "12:\n",
      "mojwsjsjwfqjsj\n",
      "13:\n",
      "lnivririvepiri\n",
      "14:\n",
      "kmhuqhqhudohqh\n",
      "15:\n",
      "jlgtpgpgtcngpg\n",
      "16:\n",
      "ikfsofofsbmfof\n",
      "17:\n",
      "hjerneneralene\n",
      "18:\n",
      "gidqmdmdqåkdmd\n",
      "19:\n",
      "fhcplclcpøjclc\n",
      "20:\n",
      "egbokbkboæibkb\n",
      "21:\n",
      "dfanjajanzhaja\n",
      "22:\n",
      "ceåmiåiåmygåiå\n",
      "23:\n",
      "bdølhøhølxføhø\n",
      "24:\n",
      "acækgægækweægæ\n",
      "25:\n",
      "åbzjfzfzjvdzfz\n",
      "26:\n",
      "øayieyeyiucyey\n",
      "27:\n",
      "æåxhdxdxhtbxdx\n",
      "28:\n",
      "zøwgcwcwgsawcw\n"
     ]
    }
   ],
   "source": [
    "\n",
    "\n",
    "\n",
    "\n",
    "alphabet_number = {\n",
    "    'a' : 0,\n",
    "    'b' : 1,\n",
    "    'c' : 2,\n",
    "    'd' : 3,\n",
    "    'e' : 4,\n",
    "    'f' : 5,\n",
    "    'g' : 6,\n",
    "    'h' : 7,\n",
    "    'i' : 8,\n",
    "    'j' : 9,\n",
    "    'k' : 10,\n",
    "    'l' : 11,\n",
    "    'm' : 12,\n",
    "    'n' : 13,\n",
    "    'o' : 14,\n",
    "    'p' : 15,\n",
    "    'q' : 16,\n",
    "    'r' : 17,\n",
    "    's' : 18,\n",
    "    't' : 19,\n",
    "    'u' : 20,\n",
    "    'v' : 21,\n",
    "    'w' : 22,\n",
    "    'x' : 23,\n",
    "    'y' : 24,\n",
    "    'z' : 25,\n",
    "    'æ' : 26,\n",
    "    'ø' : 27,\n",
    "    'å' : 28\n",
    "    \n",
    "}\n",
    "\n",
    "alphabet = [\n",
    "    'a',\n",
    "    'b',\n",
    "    'c',\n",
    "    'd',\n",
    "    'e',\n",
    "    'f',\n",
    "    'g',\n",
    "    'h',\n",
    "    'i',\n",
    "    'j',\n",
    "    'k',\n",
    "    'l',\n",
    "    'm',\n",
    "    'n',\n",
    "    'o',\n",
    "    'p',\n",
    "    'q',\n",
    "    'r',\n",
    "    's',\n",
    "    't',\n",
    "    'u',\n",
    "    'v',\n",
    "    'w',\n",
    "    'x',\n",
    "    'y',\n",
    "    'z',\n",
    "    'æ',\n",
    "    'ø',\n",
    "    'å'\n",
    "]\n",
    "\n",
    "def reformat_index(i):\n",
    "    if i < 0:\n",
    "        return 29 + i\n",
    "    \n",
    "    return i\n",
    "\n",
    "input = \"yævfbvbvfråvbv\"\n",
    "int_list = []\n",
    "\n",
    "for char in input:\n",
    "    int_list.append(alphabet_number[char])\n",
    "    \n",
    "for x in range(29):\n",
    "    print(f'{x}:')\n",
    "    output = \"\"\n",
    "    for i in int_list:\n",
    "        output += alphabet[reformat_index(i-x)]\n",
    "    print(output)"
   ]
  },
  {
   "cell_type": "markdown",
   "metadata": {},
   "source": [
    "K = 17"
   ]
  },
  {
   "cell_type": "markdown",
   "metadata": {},
   "source": [
    "## Oppgave 6\n",
    "\n",
    "Definer et blokk-chiffer med blokkelngde b, og et alfabete med N tegn, som bruker samme prinsipp som skift-chifret."
   ]
  },
  {
   "cell_type": "code",
   "execution_count": null,
   "metadata": {},
   "outputs": [],
   "source": []
  },
  {
   "cell_type": "markdown",
   "metadata": {},
   "source": [
    "## Oppgave 7"
   ]
  },
  {
   "cell_type": "code",
   "execution_count": 68,
   "metadata": {},
   "outputs": [
    {
     "name": "stdout",
     "output_type": "stream",
     "text": [
      "Original message: Nå er det snart helg\n",
      "Encoded message: cNqwøsrvIjIørGAsvv\n",
      "Generated key: torsktorsktorsktorsk\n"
     ]
    }
   ],
   "source": [
    "alphabet = 'abcdefghijklmnopqrstuvwxyzæøåABCDEFGHIJKLMNOPQRSTUVWXYZÆØÅ '\n",
    "message = 'Nå er det snart helg'\n",
    "key = 'torsk'\n",
    "encoded_message = ''\n",
    "\n",
    "def generate_key(key):\n",
    "    key = list(key) \n",
    "    if len(message) == len(key): \n",
    "        return \n",
    "    else: \n",
    "        for i in range(len(message) - len(key)): \n",
    "            key.append(key[i % len(key)]) \n",
    "    return(\"\" . join(key))\n",
    "\n",
    "def find_position(char):\n",
    "    for i in range(len(alphabet)):\n",
    "        if char == alphabet[i]:\n",
    "            return i\n",
    "        \n",
    "generated_key = generate_key(key)\n",
    "\n",
    "for i in range(len(melding)):\n",
    "    msg_pos = find_position(message[i])\n",
    "    key_pos = find_position(generated_key[i % len(generated_key)])\n",
    "\n",
    "    encoded_message += alphabet[(msg_pos + key_pos) % len(alphabet)]\n",
    "\n",
    "print(f'Original message: {message}\\nEncoded message: {encoded_message}\\nGenerated key: {generated_key}')"
   ]
  },
  {
   "cell_type": "code",
   "execution_count": 67,
   "metadata": {},
   "outputs": [
    {
     "data": {
      "text/plain": [
       "''"
      ]
     },
     "execution_count": 67,
     "metadata": {},
     "output_type": "execute_result"
    }
   ],
   "source": [
    "cipher_text = 'QZQOBVCAFFKSDC'\n",
    "key = 'brus'\n",
    "decoded_string = ''\n",
    "\n",
    "\n",
    "\n",
    "\n",
    "\n",
    "\n",
    "\n",
    "\n",
    "decoded_string"
   ]
  },
  {
   "cell_type": "markdown",
   "metadata": {},
   "source": [
    "## Oppgave 8"
   ]
  },
  {
   "cell_type": "code",
   "execution_count": null,
   "metadata": {},
   "outputs": [],
   "source": []
  }
 ],
 "metadata": {
  "kernelspec": {
   "display_name": "Python 3",
   "language": "python",
   "name": "python3"
  },
  "language_info": {
   "codemirror_mode": {
    "name": "ipython",
    "version": 3
   },
   "file_extension": ".py",
   "mimetype": "text/x-python",
   "name": "python",
   "nbconvert_exporter": "python",
   "pygments_lexer": "ipython3",
   "version": "3.8.6"
  }
 },
 "nbformat": 4,
 "nbformat_minor": 4
}
