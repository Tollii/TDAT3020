{
 "cells": [
  {
   "cell_type": "markdown",
   "metadata": {},
   "source": [
    "# Øving 16, krypto\n",
    "\n",
    "\n",
    "### Oppgave 1\n",
    "a) Gitt følgende rekursive følge/LFSR:<br/>\n",
    "zi+4 = zi + zi+1 + zi+2 + zi+3(mod 2)<br/>\n",
    "\n",
    "Hva blir perioden med nøklene <br/>\n",
    "1: K = 1000<br/>\n",
    "2: K = 0011<br/>\n",
    "3: K = 1111"
   ]
  },
  {
   "cell_type": "code",
   "execution_count": 91,
   "metadata": {},
   "outputs": [
    {
     "data": {
      "text/plain": [
       "{'k1': '1000110001100011000110001100011000',\n",
       " 'k2': '0011000110001100011000110001100011',\n",
       " 'k3': '1111011110111101111011110111101111'}"
      ]
     },
     "execution_count": 91,
     "metadata": {},
     "output_type": "execute_result"
    }
   ],
   "source": [
    "k1 = '1000'\n",
    "k2 = '0011'\n",
    "k3 = '1111'\n",
    "\n",
    "def lfsr(k):\n",
    "    for i in range(30):\n",
    "        k += str((int(k[i + 0]) + int(k[i + 1]) + int(k[i + 2]) + int(k[i + 3])) % 2)\n",
    "    return k\n",
    "\n",
    "{'k1': lfsr(k1), 'k2': lfsr(k2), 'k3': lfsr(k3)}"
   ]
  },
  {
   "cell_type": "markdown",
   "metadata": {},
   "source": [
    "b) Gjør det samme for følgende LFSR:<br/>\n",
    "zi+4 = zi + zi+3(mod 2)"
   ]
  },
  {
   "cell_type": "code",
   "execution_count": 90,
   "metadata": {},
   "outputs": [
    {
     "data": {
      "text/plain": [
       "{'k1': '1000111101011001000111101011001000',\n",
       " 'k2': '0011110101100100011110101100100011',\n",
       " 'k3': '1111010110010001111010110010001111'}"
      ]
     },
     "execution_count": 90,
     "metadata": {},
     "output_type": "execute_result"
    }
   ],
   "source": [
    "def lfsr2(k):\n",
    "    for i in range(30):\n",
    "        k += str((int(k[i + 0]) + int(k[i + 3])) % 2)\n",
    "    return k\n",
    "\n",
    "{'k1': lfsr2(k1), 'k2': lfsr2(k2), 'k3': lfsr2(k3)}"
   ]
  },
  {
   "cell_type": "markdown",
   "metadata": {},
   "source": [
    "### Oppgave 2\n",
    "Bruk Autokey-chifret, med P = C = Z29.\n",
    "\n",
    "• La k = 17 og krypter teksten goddag"
   ]
  },
  {
   "cell_type": "code",
   "execution_count": 92,
   "metadata": {},
   "outputs": [],
   "source": [
    "num_to_alphabet = {\n",
    "    0 : \"a\",\n",
    "    1 : \"b\",\n",
    "    2 : \"c\",\n",
    "    3 : \"d\",\n",
    "    4 : \"e\",\n",
    "    5 : \"f\",\n",
    "    6 : \"g\",\n",
    "    7 : \"h\",\n",
    "    8 : \"i\",\n",
    "    9 : \"j\",\n",
    "    10 : \"k\",\n",
    "    11 : \"l\",\n",
    "    12 : \"m\",\n",
    "    13 : \"n\",\n",
    "    14 : \"o\",\n",
    "    15 : \"p\",\n",
    "    16 : \"q\",\n",
    "    17 : \"r\",\n",
    "    18 : \"s\",\n",
    "    19 : \"t\",\n",
    "    20 : \"u\",\n",
    "    21 : \"v\",\n",
    "    22 : \"w\",\n",
    "    23 : \"x\",\n",
    "    24 : \"y\",\n",
    "    25 : \"z\",\n",
    "    26 : \"æ\",\n",
    "    27 : \"ø\",\n",
    "    28 : \"å\"\n",
    "}\n",
    "\n",
    "alphabet_to_num = {\n",
    "    \"a\" : 0,\n",
    "    \"b\" : 1,\n",
    "    \"c\" : 2,\n",
    "    \"d\" : 3,\n",
    "    \"e\" : 4,\n",
    "    \"f\" : 5,\n",
    "    \"g\" : 6,\n",
    "    \"h\" : 7,\n",
    "    \"i\" : 8,\n",
    "    \"j\" : 9,\n",
    "    \"k\" : 10,\n",
    "    \"l\" : 11,\n",
    "    \"m\" : 12,\n",
    "    \"n\" : 13,\n",
    "    \"o\" : 14,\n",
    "    \"p\" : 15,\n",
    "    \"q\" : 16,\n",
    "    \"r\" : 17,\n",
    "    \"s\" : 18,\n",
    "    \"t\" : 19,\n",
    "    \"u\" : 20,\n",
    "    \"v\" : 21,\n",
    "    \"w\" : 22,\n",
    "    \"x\" : 23,\n",
    "    \"y\" : 24,\n",
    "    \"z\" : 25,\n",
    "    \"æ\" : 26,\n",
    "    \"ø\" : 27,\n",
    "    \"å\" : 28\n",
    "}"
   ]
  },
  {
   "cell_type": "code",
   "execution_count": 93,
   "metadata": {},
   "outputs": [],
   "source": [
    "def autokey_encrypt(message, k):\n",
    "    key = [k]\n",
    "    clear_text_num = []\n",
    "    \n",
    "    for i in range(len(clear_text)):\n",
    "        if i == 0:\n",
    "            clear_text_num.append(alphabet_to_num[clear_text[i]])\n",
    "            continue\n",
    "\n",
    "        key.append(alphabet_to_num[clear_text[i]])\n",
    "        clear_text_num.append(alphabet_to_num[clear_text[i]])\n",
    "        \n",
    "    return (clear_text_num, key)"
   ]
  },
  {
   "cell_type": "code",
   "execution_count": 95,
   "metadata": {},
   "outputs": [
    {
     "name": "stdout",
     "output_type": "stream",
     "text": [
      "17-14-3-3-0-6\n",
      "6-14-3-3-0-6\n"
     ]
    }
   ],
   "source": [
    "k = 17\n",
    "clear_text = 'goddag'\n",
    "\n",
    "clear_text_num, key = autokey_encrypt(clear_text, k)\n",
    "\n",
    "print('-'.join([str(x) for x in key]))\n",
    "print('-'.join([str(x) for x in clear_text_num]))"
   ]
  },
  {
   "cell_type": "markdown",
   "metadata": {},
   "source": [
    "\n",
    "• Gitt k = 5, dekrypter 23 08 23 12 21 02 04 03 17 13 1"
   ]
  },
  {
   "cell_type": "code",
   "execution_count": 100,
   "metadata": {},
   "outputs": [],
   "source": [
    "def autokey_decrypt(cipher, k):\n",
    "    clear_text = ''\n",
    "\n",
    "    for x in range(len(cipher)):\n",
    "        k = cipher[x] - k\n",
    "        if k < 0:\n",
    "            k += 29\n",
    "        clear_text += num_to_alphabet[k]\n",
    "    return clear_text"
   ]
  },
  {
   "cell_type": "code",
   "execution_count": 101,
   "metadata": {},
   "outputs": [
    {
     "data": {
      "text/plain": [
       "'steinsprang'"
      ]
     },
     "execution_count": 101,
     "metadata": {},
     "output_type": "execute_result"
    }
   ],
   "source": [
    "k = 5\n",
    "cipher = [23, 8, 23, 12, 21, 2, 4, 3, 17, 13, 19]\n",
    "\n",
    "autokey_decrypt(cipher, k)"
   ]
  },
  {
   "cell_type": "markdown",
   "metadata": {},
   "source": [
    "## Oppgave 3\n",
    "\n",
    "Vi definerer en HMAC som følger:\n",
    "\n",
    "• K = 1001\n",
    "\n",
    "• ipad = 0011\n",
    "\n",
    "• opad = 0101\n",
    "\n",
    "• h er midtkvadratmetoden, dvs. vi regner x^2(mod 2^8)\n",
    "\n",
    "a) Finn HMAC til meldingen 0110"
   ]
  },
  {
   "cell_type": "code",
   "execution_count": 115,
   "metadata": {},
   "outputs": [],
   "source": [
    "def H(x):\n",
    "    return bin((int(x, 2) ** 2) % 256).replace('0b','')"
   ]
  },
  {
   "cell_type": "code",
   "execution_count": 114,
   "metadata": {},
   "outputs": [
    {
     "data": {
      "text/plain": [
       "'100100'"
      ]
     },
     "execution_count": 114,
     "metadata": {},
     "output_type": "execute_result"
    }
   ],
   "source": [
    "cipher_text = '0110'\n",
    "H(cipher_text)"
   ]
  },
  {
   "cell_type": "markdown",
   "metadata": {},
   "source": [
    "b) Du mottar meldingen 0111 og HMAC 0100. Er det grunn til å tro at\n",
    "meldingen ikke er autentisk?"
   ]
  }
 ],
 "metadata": {
  "kernelspec": {
   "display_name": "Python 3",
   "language": "python",
   "name": "python3"
  },
  "language_info": {
   "codemirror_mode": {
    "name": "ipython",
    "version": 3
   },
   "file_extension": ".py",
   "mimetype": "text/x-python",
   "name": "python",
   "nbconvert_exporter": "python",
   "pygments_lexer": "ipython3",
   "version": "3.8.6"
  }
 },
 "nbformat": 4,
 "nbformat_minor": 4
}
