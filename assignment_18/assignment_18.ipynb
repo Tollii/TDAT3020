{
 "cells": [
  {
   "cell_type": "markdown",
   "metadata": {},
   "source": [
    "# Kryptografering 3"
   ]
  },
  {
   "cell_type": "markdown",
   "metadata": {},
   "source": [
    "### Oppgave 1\n",
    "NB! Alle tallene er skrevet i base 10, ikke binært .... og 10 her er heller ikke\n",
    "skrevet binært!!! La meg ikke måtte si det 10 ganger da.."
   ]
  },
  {
   "cell_type": "markdown",
   "metadata": {},
   "source": [
    "a) Skriv 72 og 136 på binærform"
   ]
  },
  {
   "cell_type": "code",
   "execution_count": 58,
   "metadata": {},
   "outputs": [
    {
     "data": {
      "text/plain": [
       "['0b1001000', '0b10001000']"
      ]
     },
     "execution_count": 58,
     "metadata": {},
     "output_type": "execute_result"
    }
   ],
   "source": [
    "'''\n",
    "Manual conversion - 72\n",
    "72 : 2 = 36 -> 0 remainder (least significant bit)\n",
    "36 : 2 = 18 -> 0 remainder\n",
    "18 : 2 = 9 -> 0 remainder\n",
    "9 : 2 = 4,5 -> 1 remainder\n",
    "4 : 2 = 2 -> 0 remainder\n",
    "2 : 2 = 1 -> 0 remainder\n",
    "1 : 2 = 0,5 -> 1 remainder (most significant bit)\n",
    "Result = 1001000\n",
    "\n",
    "Manual conversion - 136\n",
    "136 : 2 = 68 -> 0 remainder (least significant bit)\n",
    "68 : 2 = 34 -> 0 remainder\n",
    "34 :  = 17 -> 0 remainder\n",
    "17 : 2 = 8,5 -> 1 remainder\n",
    "8 : 2 = 4 -> 0 remainder\n",
    "4 : 2 = 2 -> 0 remainder\n",
    "2 : 2 = 1 -> 0 remainder\n",
    "1 : 2 = 0,5 -> 1 remainder (most significant bit)\n",
    "Result = 10001000\n",
    "'''\n",
    "\n",
    "[bin(72), bin(136)]"
   ]
  },
  {
   "cell_type": "markdown",
   "metadata": {},
   "source": [
    "b) Regn ut a = 11^72 og b = 11^136, begge mod 10001"
   ]
  },
  {
   "cell_type": "code",
   "execution_count": 84,
   "metadata": {},
   "outputs": [
    {
     "data": {
      "text/plain": [
       "(804, 9454)"
      ]
     },
     "execution_count": 84,
     "metadata": {},
     "output_type": "execute_result"
    }
   ],
   "source": [
    "'''\n",
    "\n",
    "11^72 = (11^50 * 11^22) = (11^10 * 11^20 * 11^20 * 11^20 * 11^2)\n",
    "\n",
    "11^20 mod 10001 = 9800\n",
    "11^10 mod 10001 = 1118\n",
    "11^2 mod 10001 = 121\n",
    "\n",
    "(9800 * 1118 * 121) mod 10001 = 1841\n",
    "(9800 * 9800) % 10001 = 397\n",
    "(1841 * 397) % 10001 = 804\n",
    "(11 ** 72) % 10001 = 804\n",
    "\n",
    "'''\n",
    "'''\n",
    "11^136 = (11^50 * 11^50 * 11^36) = (11^50 * 11^50 * 11^20 * 11^8 11^8)\n",
    "\n",
    "11^50 = (11^10 * 11^20 * 11^20)\n",
    "(9800 * 9800 * 1118) mod 10001 = 3802\n",
    "(3802 * 3802) mod 10001 = 3759\n",
    "\n",
    "11^8 mod 10001 = 7448\n",
    "(7448 * 7448) mod 10001 = 7158\n",
    "\n",
    "(3759 * 7158 * 9800) mod 10001 = 11^137 mod 10001 9454\n",
    "\n",
    "'''\n",
    "\n",
    "\n",
    "a = (11 ** 72) % 10001\n",
    "b = (11 ** 136) % 10001\n",
    "(a, b)"
   ]
  },
  {
   "cell_type": "markdown",
   "metadata": {},
   "source": [
    "c) Regn ut gcd(a, 10001) og gcd(b, 10001)"
   ]
  },
  {
   "cell_type": "code",
   "execution_count": 60,
   "metadata": {},
   "outputs": [],
   "source": [
    "def gcd(x, y): \n",
    "    while(y): \n",
    "        x, y = y, x % y\n",
    "    return x "
   ]
  },
  {
   "cell_type": "code",
   "execution_count": 92,
   "metadata": {},
   "outputs": [
    {
     "data": {
      "text/plain": [
       "(1, 1)"
      ]
     },
     "execution_count": 92,
     "metadata": {},
     "output_type": "execute_result"
    }
   ],
   "source": [
    "'''\n",
    "a = 804\n",
    "gcd(a, 10001) = 1\n",
    "\n",
    "10001 = 12 * 804 + 353\n",
    "804 = 2 * 353 + 98\n",
    "353 * 3 * 98 + 59\n",
    "98 = 1 * 59 + 39\n",
    "59 = 1 * 39 + 20\n",
    "39 = 1 * 20 + 19\n",
    "20 = 1 * 19 + 1\n",
    "19 = 19 * 1 + 0\n",
    "'''\n",
    "'''\n",
    "b = 9454\n",
    "gcd(b, 10001) = 1\n",
    "10001 = 1 * 9454 + 547\n",
    "9454 = 17 * 547 + 155\n",
    "547 = 3 * 155 + 82\n",
    "155 = 1 * 82 + 73\n",
    "82 = 1 * 73 + 9\n",
    "73 = 8 * 9 + 1\n",
    "9 = 9 * 1 + 0\n",
    "'''\n",
    "\n",
    "(gcd(a, 10001), gcd(b, 10001))"
   ]
  },
  {
   "cell_type": "markdown",
   "metadata": {},
   "source": [
    "d) Regn ut ab (mod 10001)."
   ]
  },
  {
   "cell_type": "code",
   "execution_count": 62,
   "metadata": {},
   "outputs": [
    {
     "data": {
      "text/plain": [
       "256"
      ]
     },
     "execution_count": 62,
     "metadata": {},
     "output_type": "execute_result"
    }
   ],
   "source": [
    "(a * b) % 10001"
   ]
  },
  {
   "cell_type": "markdown",
   "metadata": {},
   "source": [
    "### Oppgave 2\n",
    "\n",
    "Sett opp et RSA-kryptosystem med følgende parametre:\n",
    "\n",
    "• p og q skal ha minst 8 bits hver.\n",
    "\n",
    "• e skal være liten, men større enn 3"
   ]
  },
  {
   "cell_type": "markdown",
   "metadata": {},
   "source": [
    "a) Skriv ut (hele) offentlig nøkkel."
   ]
  },
  {
   "cell_type": "code",
   "execution_count": 63,
   "metadata": {},
   "outputs": [],
   "source": [
    "def rsa_public_key(p, q):\n",
    "    n = p * q\n",
    "    t = (p - 1) * (q - 1)\n",
    "    \n",
    "    for e in range(2, t):\n",
    "        if gcd(e, t) == 1:\n",
    "            return (n, e)"
   ]
  },
  {
   "cell_type": "code",
   "execution_count": 64,
   "metadata": {},
   "outputs": [
    {
     "data": {
      "text/plain": [
       "(3127, 3)"
      ]
     },
     "execution_count": 64,
     "metadata": {},
     "output_type": "execute_result"
    }
   ],
   "source": [
    "p = 53\n",
    "q = 59\n",
    "\n",
    "n, e = rsa_public_key(p, q)\n",
    "public_key = (n, e)\n",
    "public_key"
   ]
  },
  {
   "cell_type": "markdown",
   "metadata": {},
   "source": [
    "b) Finn ved Euklids algoritme d og skriv ut (hele) private nøkkel."
   ]
  },
  {
   "cell_type": "code",
   "execution_count": 65,
   "metadata": {},
   "outputs": [],
   "source": [
    "import numpy as np\n",
    "\n",
    "def rsa_private_key(n, e, t):\n",
    "    for i in range(1,10): \n",
    "        x = 1 + i * t\n",
    "        if x % e == 0: \n",
    "            return int(x/e) "
   ]
  },
  {
   "cell_type": "code",
   "execution_count": 66,
   "metadata": {},
   "outputs": [
    {
     "data": {
      "text/plain": [
       "2011"
      ]
     },
     "execution_count": 66,
     "metadata": {},
     "output_type": "execute_result"
    }
   ],
   "source": [
    "t = (p - 1) * (q - 1)\n",
    "\n",
    "private_key = rsa_private_key(n, e, t)\n",
    "private_key"
   ]
  },
  {
   "cell_type": "markdown",
   "metadata": {},
   "source": [
    "c) Krypter 42 og dekrypter igjen. Bruk kvadrer-og-multipliser-algoritmen\n",
    "for å regne ut potenser"
   ]
  },
  {
   "cell_type": "code",
   "execution_count": 67,
   "metadata": {},
   "outputs": [
    {
     "data": {
      "text/plain": [
       "2167"
      ]
     },
     "execution_count": 67,
     "metadata": {},
     "output_type": "execute_result"
    }
   ],
   "source": [
    "def encrypt_rsa(text, public_key):\n",
    "    return ((text ** public_key[1]) % public_key[0])\n",
    "\n",
    "cipher = encrypt_rsa(42, public_key)\n",
    "cipher"
   ]
  },
  {
   "cell_type": "code",
   "execution_count": 68,
   "metadata": {},
   "outputs": [
    {
     "data": {
      "text/plain": [
       "42"
      ]
     },
     "execution_count": 68,
     "metadata": {},
     "output_type": "execute_result"
    }
   ],
   "source": [
    "def decrypt_rsa(cipher, public_key, private_key):\n",
    "    return ((cipher ** private_key) % public_key[0])\n",
    "\n",
    "decrypt_rsa(cipher, public_key, private_key)"
   ]
  },
  {
   "cell_type": "markdown",
   "metadata": {},
   "source": [
    "### Oppgave 3"
   ]
  },
  {
   "cell_type": "markdown",
   "metadata": {},
   "source": [
    "a) La n = 1829 og B = 5.\n",
    "\n",
    "Kan du finne en primtallsfaktor i n ved Pollard\n",
    "p − 1?"
   ]
  },
  {
   "cell_type": "code",
   "execution_count": 112,
   "metadata": {},
   "outputs": [],
   "source": [
    "def pollard(n, B):\n",
    "    a = 2\n",
    "    f = 0\n",
    "    for i in range(2, B):\n",
    "        a = (a ** i) % n\n",
    "        f = gcd((a-1), n)\n",
    "        \n",
    "        if(f > 1 and f < n):\n",
    "            return f\n",
    "    \n",
    "    return None"
   ]
  },
  {
   "cell_type": "code",
   "execution_count": 113,
   "metadata": {},
   "outputs": [
    {
     "name": "stdout",
     "output_type": "stream",
     "text": [
      "Didn't find prime factor.\n"
     ]
    }
   ],
   "source": [
    "result = pollard(1829, 5)\n",
    "\n",
    "if (result is not None):\n",
    "    print(result)\n",
    "else:\n",
    "    print(\"Didn't find prime factor.\")"
   ]
  },
  {
   "cell_type": "markdown",
   "metadata": {},
   "source": [
    "b) La n1 = 18779 og n2 = 42583.\n",
    "\n",
    "Ved bruk av Pollard p − 1, finn B’er\n",
    "som er garantert å fungere for hver av disse, uten å utføre testen"
   ]
  },
  {
   "cell_type": "code",
   "execution_count": 117,
   "metadata": {},
   "outputs": [],
   "source": [
    "# ?"
   ]
  },
  {
   "cell_type": "markdown",
   "metadata": {},
   "source": [
    "c) La n = 6319.\n",
    "\n",
    "Forsøk å finne en faktor i dette tallet ved Pollard p − 1.\n",
    "Prøv deg frem med B."
   ]
  },
  {
   "cell_type": "code",
   "execution_count": 119,
   "metadata": {},
   "outputs": [
    {
     "name": "stdout",
     "output_type": "stream",
     "text": [
      "71\n"
     ]
    }
   ],
   "source": [
    "B = 2\n",
    "\n",
    "while(True):\n",
    "    result = pollard(6319, B)\n",
    "\n",
    "    if (result is not None):\n",
    "        print(result)\n",
    "        break\n",
    "    else:\n",
    "        B += 1"
   ]
  },
  {
   "cell_type": "markdown",
   "metadata": {},
   "source": [
    "### Oppgave 4\n",
    "Finn en faktor i tallene under med f(x) = x\n",
    "2 + 1 og startverdi x1 = 1 i\n",
    "Pollard rho. \n",
    "\n",
    "Hvor mange iterasjoner trenger du?"
   ]
  },
  {
   "cell_type": "markdown",
   "metadata": {},
   "source": [
    "a) 851"
   ]
  },
  {
   "cell_type": "code",
   "execution_count": 120,
   "metadata": {},
   "outputs": [],
   "source": [
    "def pollards_rho(n):\n",
    "    x = 1\n",
    "    y = x\n",
    "    d = 1\n",
    "    f = lambda x: (x**2 + 1) % n\n",
    "    \n",
    "    i = 0\n",
    "    while d == 1:\n",
    "        x = f(x)\n",
    "        y = f(f(y))\n",
    "        d = gcd(abs(x - y), n)\n",
    "        i = i + 1\n",
    "        \n",
    "    if d is not n:\n",
    "        return (d, i)"
   ]
  },
  {
   "cell_type": "code",
   "execution_count": null,
   "metadata": {},
   "outputs": [],
   "source": [
    "print('Prime Factor | Iterations')\n",
    "pollards_rho(851)"
   ]
  },
  {
   "cell_type": "markdown",
   "metadata": {},
   "source": [
    "b) 1517"
   ]
  },
  {
   "cell_type": "code",
   "execution_count": null,
   "metadata": {},
   "outputs": [],
   "source": [
    "print('Prime Factor | Iterations')\n",
    "pollards_rho(1517)"
   ]
  },
  {
   "cell_type": "markdown",
   "metadata": {},
   "source": [
    "c) 31861"
   ]
  },
  {
   "cell_type": "code",
   "execution_count": null,
   "metadata": {},
   "outputs": [],
   "source": [
    "print('Prime Factor | Iterations')\n",
    "pollards_rho(31861)"
   ]
  },
  {
   "cell_type": "markdown",
   "metadata": {},
   "source": [
    "### Oppgave 5"
   ]
  },
  {
   "cell_type": "markdown",
   "metadata": {},
   "source": [
    "a) Vis følgende multiplikative egenskap til RSA:\n",
    "\n",
    "eK(x1)eK(x2) mod n = eK(x1x2) mod n"
   ]
  },
  {
   "cell_type": "markdown",
   "metadata": {},
   "source": [
    "Svar:\n",
    "\n",
    "\n",
    "Hvis...\n",
    "1. Ek(x) = x^e mod n\n",
    "2. (a mod n)(b mod n) = ab mod n\n",
    "3. (a^i)(b^i) = (ab)^i\n",
    "\n",
    "Så kan vi si at...\n",
    "\n",
    "#### Ek(x1)Ek(x2) mod n = ((x1)^e * (x2)^e) mod n = (x1x2)^e mod n = Ek(x1x2) mod n"
   ]
  },
  {
   "cell_type": "markdown",
   "metadata": {},
   "source": [
    "b) Vis hvordan RSA er usikker mot valgt chiffertekst-angrep:\n",
    "\n",
    "Gitt en\n",
    "chiffertekst y, beskriv hvordan en angriper kan velge chiffertekst y\n",
    "′ ̸= y,\n",
    "slik at kjennskap til klarteksten x\n",
    "′ = dK(y\n",
    "′\n",
    ") lar ham beregne x = dK(y"
   ]
  },
  {
   "cell_type": "markdown",
   "metadata": {},
   "source": [
    "Svar: \n",
    "\n",
    "1. y = x^e mod n\n",
    "2. y' = 2^e mod n\n",
    "\n",
    "Sender en melding til y\" til offeret:\n",
    "\n",
    "y\" = yy' = y2^e = 2^e * x^e mod n\n",
    "\n",
    "Når vi dekrypterer y\":\n",
    "\n",
    "(y\")^d = (x^e * 2^e)^d mod n = x * 2 mod n\n",
    "\n",
    "Hvis vi deler på 2, får vi x"
   ]
  },
  {
   "cell_type": "markdown",
   "metadata": {},
   "source": [
    "### Oppgave 6\n",
    "I denne oppgaven skal vi se på måte å angripe RSA på, hvis differansen q −p\n",
    "er liten. Anta q > p"
   ]
  },
  {
   "cell_type": "markdown",
   "metadata": {},
   "source": [
    "a) Forklar hvorfor vi kan skrive q − p = 2d, hvor d er et heltall."
   ]
  },
  {
   "cell_type": "markdown",
   "metadata": {},
   "source": [
    "#### Svar:\n",
    "    \n",
    "Partall kan alltids representeres som 2d, da et partall alltid kan deles på 2, og et oddetall ganget med 2, blir alltid et partall."
   ]
  },
  {
   "cell_type": "markdown",
   "metadata": {},
   "source": [
    "b) Vis at n + d\n",
    "2\n",
    "er et kvadrattall"
   ]
  },
  {
   "cell_type": "markdown",
   "metadata": {},
   "source": [
    "#### Svar:\n",
    "1. n = qp\n",
    "2. q - p = 2d -> d = (q - p) / 2k^2 = k*k\n",
    "\n",
    "\n",
    "3. n + d^2 = pq + ((q - p) / 2)^2\n",
    "4. = pq + (p^2 - 2pq + q^2) / 4\n",
    "5. (4pq) / 4 (p^2 - 2pq + q^2) / 4 \n",
    "6. (p^2 + 2pq + q^2) / 4\n",
    "7. ((p + q) / 2)^2\n",
    "8. k^2\n",
    "9. k = (p + q) / 2"
   ]
  },
  {
   "cell_type": "markdown",
   "metadata": {},
   "source": [
    "c) Vis hvordan vi kan faktorisere n hvis n + d\n",
    "2\n",
    "er et kvadrattall. Vi antar\n",
    "her at at d\n",
    "2\n",
    "er “liten nok\"."
   ]
  },
  {
   "cell_type": "markdown",
   "metadata": {},
   "source": [
    "#### Svar:\n",
    "1. n + d^2 = k^2 = ((p + q) / 2)^2\n",
    "\n",
    "\n",
    "2. n = k^2 - d^2 = (k + d)(k - d) = qp\n",
    "3. (q = k + d)  V (p = k - d)"
   ]
  },
  {
   "cell_type": "markdown",
   "metadata": {},
   "source": [
    "d) Faktoriser n = 152416580095517 med denne metoden"
   ]
  },
  {
   "cell_type": "markdown",
   "metadata": {},
   "source": [
    "#### Svar:\n",
    "\n",
    "Vi kan regne ut d og n med en brute force på denne måten:\n",
    "\n",
    "Vi vet at:\n",
    "\n",
    "1. n + d^2 = k^2\n",
    "2. k = sqrt(n + d^2)\n",
    "\n",
    "\n",
    "\n",
    "K er et kvadrattall, d er \"liten nok\"\n",
    "\n",
    "Dette lar oss finne d ved å itterere opp i fra 1, til vi finner den riktige verdien for d. Vi vet at vi har funnet riktig d når resultatet av formelen kor K blir ett heltall.\n",
    "\n",
    "\n",
    "1. n = 152416580095517\n",
    "2. d = 1 : sqrt(n + d^2) = 12345710.9999999878500314805683741\n",
    "3. d = 2 : sqrt(n + d^2) = 12345711\n",
    "4. d = 2 Λ k = 12345711"
   ]
  }
 ],
 "metadata": {
  "kernelspec": {
   "display_name": "Python 3",
   "language": "python",
   "name": "python3"
  },
  "language_info": {
   "codemirror_mode": {
    "name": "ipython",
    "version": 3
   },
   "file_extension": ".py",
   "mimetype": "text/x-python",
   "name": "python",
   "nbconvert_exporter": "python",
   "pygments_lexer": "ipython3",
   "version": "3.9.0"
  }
 },
 "nbformat": 4,
 "nbformat_minor": 4
}
