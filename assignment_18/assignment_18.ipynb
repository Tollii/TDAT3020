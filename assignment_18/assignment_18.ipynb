{
 "cells": [
  {
   "cell_type": "markdown",
   "metadata": {},
   "source": [
    "# Kryptografering 3"
   ]
  },
  {
   "cell_type": "markdown",
   "metadata": {},
   "source": [
    "### Oppgave 1\n",
    "NB! Alle tallene er skrevet i base 10, ikke binært .... og 10 her er heller ikke\n",
    "skrevet binært!!! La meg ikke måtte si det 10 ganger da.."
   ]
  },
  {
   "cell_type": "markdown",
   "metadata": {},
   "source": [
    "a) Skriv 72 og 136 på binærform"
   ]
  },
  {
   "cell_type": "code",
   "execution_count": 30,
   "metadata": {},
   "outputs": [
    {
     "data": {
      "text/plain": [
       "['0b1001000', '0b10001000']"
      ]
     },
     "execution_count": 30,
     "metadata": {},
     "output_type": "execute_result"
    }
   ],
   "source": [
    "'''\n",
    "Manual conversion - 72\n",
    "72 : 2 = 36 -> 0 remainder (least significant bit)\n",
    "36 : 2 = 18 -> 0 remainder\n",
    "18 : 2 = 9 -> 0 remainder\n",
    "9 : 2 = 4,5 -> 1 remainder\n",
    "4 : 2 = 2 -> 0 remainder\n",
    "2 : 2 = 1 -> 0 remainder\n",
    "1 : 2 = 0,5 -> 1 remainder (most significant bit)\n",
    "Result = 1001000\n",
    "\n",
    "Manual conversion - 136\n",
    "136 : 2 = 68 -> 0 remainder (least significant bit)\n",
    "68 : 2 = 34 -> 0 remainder\n",
    "34 :  = 17 -> 0 remainder\n",
    "17 : 2 = 8,5 -> 1 remainder\n",
    "8 : 2 = 4 -> 0 remainder\n",
    "4 : 2 = 2 -> 0 remainder\n",
    "2 : 2 = 1 -> 0 remainder\n",
    "1 : 2 = 0,5 -> 1 remainder (most significant bit)\n",
    "Result = 10001000\n",
    "'''\n",
    "\n",
    "[bin(72), bin(136)]"
   ]
  },
  {
   "cell_type": "markdown",
   "metadata": {},
   "source": [
    "b) Regn ut a = 11^72 og b = 11^136, begge mod 10001"
   ]
  },
  {
   "cell_type": "code",
   "execution_count": 74,
   "metadata": {},
   "outputs": [
    {
     "data": {
      "text/plain": [
       "[804, 9454]"
      ]
     },
     "execution_count": 74,
     "metadata": {},
     "output_type": "execute_result"
    }
   ],
   "source": [
    "a = (11 ** 72) % 10001\n",
    "b = (11 ** 136) % 10001\n",
    "[a, b]"
   ]
  },
  {
   "cell_type": "markdown",
   "metadata": {},
   "source": [
    "c) Regn ut gcd(a, 10001) og gcd(b, 10001)"
   ]
  },
  {
   "cell_type": "code",
   "execution_count": 87,
   "metadata": {},
   "outputs": [],
   "source": [
    "def gcd(x, y): \n",
    "    while(y): \n",
    "        x, y = y, x % y\n",
    "    return x "
   ]
  },
  {
   "cell_type": "code",
   "execution_count": 88,
   "metadata": {},
   "outputs": [
    {
     "data": {
      "text/plain": [
       "[1, 1]"
      ]
     },
     "execution_count": 88,
     "metadata": {},
     "output_type": "execute_result"
    }
   ],
   "source": [
    "[gcd(a, 10001), gcd(b, 10001)]"
   ]
  },
  {
   "cell_type": "markdown",
   "metadata": {},
   "source": [
    "d) Regn ut ab (mod 10001)."
   ]
  },
  {
   "cell_type": "code",
   "execution_count": 84,
   "metadata": {},
   "outputs": [
    {
     "data": {
      "text/plain": [
       "2880"
      ]
     },
     "execution_count": 84,
     "metadata": {},
     "output_type": "execute_result"
    }
   ],
   "source": [
    "(a * b) % 10001"
   ]
  },
  {
   "cell_type": "markdown",
   "metadata": {},
   "source": [
    "### Oppgave 2\n",
    "\n",
    "Sett opp et RSA-kryptosystem med følgende parametre:\n",
    "\n",
    "• p og q skal ha minst 8 bits hver.\n",
    "\n",
    "• e skal være liten, men større enn 3"
   ]
  },
  {
   "cell_type": "markdown",
   "metadata": {},
   "source": [
    "a) Skriv ut (hele) offentlig nøkkel."
   ]
  },
  {
   "cell_type": "code",
   "execution_count": null,
   "metadata": {},
   "outputs": [],
   "source": []
  },
  {
   "cell_type": "markdown",
   "metadata": {},
   "source": [
    "b) Finn ved Euklids algoritme d og skriv ut (hele) private nøkkel."
   ]
  },
  {
   "cell_type": "code",
   "execution_count": null,
   "metadata": {},
   "outputs": [],
   "source": []
  },
  {
   "cell_type": "markdown",
   "metadata": {},
   "source": [
    "c) Krypter 42 og dekrypter igjen. Bruk kvadrer-og-multipliser-algoritmen\n",
    "for å regne ut potenser"
   ]
  },
  {
   "cell_type": "code",
   "execution_count": null,
   "metadata": {},
   "outputs": [],
   "source": []
  },
  {
   "cell_type": "markdown",
   "metadata": {},
   "source": [
    "### Oppgave 3"
   ]
  },
  {
   "cell_type": "markdown",
   "metadata": {},
   "source": [
    "a) La n = 1829 og B = 5.\n",
    "\n",
    "Kan du finne en primtallsfaktor i n ved Pollard\n",
    "p − 1?"
   ]
  },
  {
   "cell_type": "code",
   "execution_count": 92,
   "metadata": {},
   "outputs": [],
   "source": [
    "import sympy \n",
    "       \n",
    "def pollard(n, B): \n",
    "    a = 2\n",
    "\n",
    "    # iterate till a prime factor is obtained \n",
    "    while(True): \n",
    "        a = (a**B) % n \n",
    "        f = gcd((a-1), n) \n",
    "\n",
    "        if (f > 1): \n",
    "            return f\n",
    "\n",
    "        B += 1"
   ]
  },
  {
   "cell_type": "code",
   "execution_count": 95,
   "metadata": {},
   "outputs": [
    {
     "data": {
      "text/plain": [
       "'Prime factors of 1829 is [31, 59]'"
      ]
     },
     "execution_count": 95,
     "metadata": {},
     "output_type": "execute_result"
    }
   ],
   "source": [
    "n = 1829\n",
    "B = 5\n",
    "\n",
    "num = n \n",
    "factors = [] \n",
    "\n",
    "while(True): \n",
    "    d = pollard(num, B)  \n",
    "    factors.append(d) \n",
    "    r = int(num / d) \n",
    "    \n",
    "    if(sympy.isprime(r)): \n",
    "        # both prime factors obtained \n",
    "        factors.append(r) \n",
    "        break\n",
    "   \n",
    "    # reduced n is not prime, so repeat \n",
    "    else: \n",
    "        num = r \n",
    "\n",
    "f'Prime factors of {n} is {factors}'"
   ]
  },
  {
   "cell_type": "markdown",
   "metadata": {},
   "source": [
    "b) La n1 = 18779 og n2 = 42583.\n",
    "\n",
    "Ved bruk av Pollard p − 1, finn B’er\n",
    "som er garantert å fungere for hver av disse, uten å utføre testen"
   ]
  },
  {
   "cell_type": "code",
   "execution_count": null,
   "metadata": {},
   "outputs": [],
   "source": []
  },
  {
   "cell_type": "markdown",
   "metadata": {},
   "source": [
    "c) La n = 6319.\n",
    "\n",
    "Forsøk å finne en faktor i dette tallet ved Pollard p − 1.\n",
    "Prøv deg frem med B."
   ]
  },
  {
   "cell_type": "code",
   "execution_count": null,
   "metadata": {},
   "outputs": [],
   "source": []
  },
  {
   "cell_type": "markdown",
   "metadata": {},
   "source": [
    "### Oppgave 4\n",
    "Finn en faktor i tallene under med f(x) = x\n",
    "2 + 1 og startverdi x1 = 1 i\n",
    "Pollard rho. \n",
    "\n",
    "Hvor mange iterasjoner trenger du?"
   ]
  },
  {
   "cell_type": "markdown",
   "metadata": {},
   "source": [
    "a) 851"
   ]
  },
  {
   "cell_type": "code",
   "execution_count": null,
   "metadata": {},
   "outputs": [],
   "source": []
  },
  {
   "cell_type": "markdown",
   "metadata": {},
   "source": [
    "b) 1517"
   ]
  },
  {
   "cell_type": "code",
   "execution_count": null,
   "metadata": {},
   "outputs": [],
   "source": []
  },
  {
   "cell_type": "markdown",
   "metadata": {},
   "source": [
    "c) 31861"
   ]
  },
  {
   "cell_type": "code",
   "execution_count": null,
   "metadata": {},
   "outputs": [],
   "source": []
  },
  {
   "cell_type": "markdown",
   "metadata": {},
   "source": [
    "### Oppgave 5"
   ]
  },
  {
   "cell_type": "markdown",
   "metadata": {},
   "source": [
    "a) Vis følgende multiplikative egenskap til RSA:\n",
    "\n",
    "eK(x1)eK(x2) mod n = eK(x1x2) mod n"
   ]
  },
  {
   "cell_type": "code",
   "execution_count": null,
   "metadata": {},
   "outputs": [],
   "source": []
  },
  {
   "cell_type": "markdown",
   "metadata": {},
   "source": [
    "b) Vis hvordan RSA er usikker mot valgt chiffertekst-angrep:\n",
    "\n",
    "Gitt en\n",
    "chiffertekst y, beskriv hvordan en angriper kan velge chiffertekst y\n",
    "′ ̸= y,\n",
    "slik at kjennskap til klarteksten x\n",
    "′ = dK(y\n",
    "′\n",
    ") lar ham beregne x = dK(y"
   ]
  },
  {
   "cell_type": "code",
   "execution_count": null,
   "metadata": {},
   "outputs": [],
   "source": []
  },
  {
   "cell_type": "markdown",
   "metadata": {},
   "source": [
    "### Oppgave 6\n",
    "I denne oppgaven skal vi se på måte å angripe RSA på, hvis differansen q −p\n",
    "er liten. Anta q > p"
   ]
  },
  {
   "cell_type": "markdown",
   "metadata": {},
   "source": [
    "a) Forklar hvorfor vi kan skrive q − p = 2d, hvor d er et heltall."
   ]
  },
  {
   "cell_type": "code",
   "execution_count": null,
   "metadata": {},
   "outputs": [],
   "source": []
  },
  {
   "cell_type": "markdown",
   "metadata": {},
   "source": [
    "b) Vis at n + d\n",
    "2\n",
    "er et kvadrattall"
   ]
  },
  {
   "cell_type": "code",
   "execution_count": null,
   "metadata": {},
   "outputs": [],
   "source": []
  },
  {
   "cell_type": "markdown",
   "metadata": {},
   "source": [
    "c) Vis hvordan vi kan faktorisere n hvis n + d\n",
    "2\n",
    "er et kvadrattall. Vi antar\n",
    "her at at d\n",
    "2\n",
    "er “liten nok\"."
   ]
  },
  {
   "cell_type": "code",
   "execution_count": null,
   "metadata": {},
   "outputs": [],
   "source": []
  },
  {
   "cell_type": "markdown",
   "metadata": {},
   "source": [
    "d) Faktoriser n = 152416580095517 med denne metoden"
   ]
  },
  {
   "cell_type": "code",
   "execution_count": null,
   "metadata": {},
   "outputs": [],
   "source": []
  }
 ],
 "metadata": {
  "kernelspec": {
   "display_name": "Python 3",
   "language": "python",
   "name": "python3"
  },
  "language_info": {
   "codemirror_mode": {
    "name": "ipython",
    "version": 3
   },
   "file_extension": ".py",
   "mimetype": "text/x-python",
   "name": "python",
   "nbconvert_exporter": "python",
   "pygments_lexer": "ipython3",
   "version": "3.8.6"
  }
 },
 "nbformat": 4,
 "nbformat_minor": 4
}
